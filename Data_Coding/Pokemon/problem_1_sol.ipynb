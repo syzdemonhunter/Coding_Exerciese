{
 "cells": [
  {
   "cell_type": "code",
   "execution_count": 1,
   "metadata": {
    "collapsed": true
   },
   "outputs": [],
   "source": [
    "import csv\n",
    "def open_with_csv(filename, d=','):\n",
    "    my_data = []\n",
    "    with open(filename, encoding='utf-8') as data_file:\n",
    "        my_reader = csv.reader(data_file, delimiter=d)\n",
    "        for row in my_reader:\n",
    "            my_data.append(row)\n",
    "        return my_data"
   ]
  },
  {
   "cell_type": "code",
   "execution_count": 2,
   "metadata": {
    "collapsed": true
   },
   "outputs": [],
   "source": [
    "my_data = open_with_csv('data.csv')"
   ]
  },
  {
   "cell_type": "code",
   "execution_count": 3,
   "metadata": {},
   "outputs": [
    {
     "data": {
      "text/plain": [
       "[['user_id', ' element', ' timestamp'],\n",
       " ['giorgio', ' elem_432', \" '2016-01-15 08:05:03'\"],\n",
       " ['ray', ' elem_612', \" '2016-01-15 14:12:15'\"],\n",
       " ['giorgio', ' elem_115', \" '2016-01-15 08:16:29'\"]]"
      ]
     },
     "execution_count": 3,
     "metadata": {},
     "output_type": "execute_result"
    }
   ],
   "source": [
    "my_data"
   ]
  },
  {
   "cell_type": "code",
   "execution_count": 4,
   "metadata": {},
   "outputs": [],
   "source": [
    "my_dict = {}\n",
    "for row in my_data[1:]:\n",
    "    user_id = row\n",
    "    hour_of_day = row[2].split()[1][:2]\n",
    "    my_dict[hour_of_day] = set()    "
   ]
  },
  {
   "cell_type": "code",
   "execution_count": 5,
   "metadata": {},
   "outputs": [],
   "source": [
    "for row in my_data[1:]:\n",
    "    hour_of_day = row[2].split()[1][:2]\n",
    "    if hour_of_day in my_dict.keys():\n",
    "        my_dict[hour_of_day].add(row[0])"
   ]
  },
  {
   "cell_type": "code",
   "execution_count": 6,
   "metadata": {},
   "outputs": [
    {
     "data": {
      "text/plain": [
       "{'08': {'giorgio'}, '14': {'ray'}}"
      ]
     },
     "execution_count": 6,
     "metadata": {},
     "output_type": "execute_result"
    }
   ],
   "source": [
    "my_dict"
   ]
  },
  {
   "cell_type": "code",
   "execution_count": null,
   "metadata": {
    "collapsed": true
   },
   "outputs": [],
   "source": []
  }
 ],
 "metadata": {
  "anaconda-cloud": {},
  "kernelspec": {
   "display_name": "Python 3",
   "language": "python",
   "name": "python3"
  },
  "language_info": {
   "codemirror_mode": {
    "name": "ipython",
    "version": 3
   },
   "file_extension": ".py",
   "mimetype": "text/x-python",
   "name": "python",
   "nbconvert_exporter": "python",
   "pygments_lexer": "ipython3",
   "version": "3.7.3"
  }
 },
 "nbformat": 4,
 "nbformat_minor": 1
}
