{
 "cells": [
  {
   "cell_type": "code",
   "execution_count": 1,
   "metadata": {},
   "outputs": [],
   "source": [
    "import itertools, bisect, random"
   ]
  },
  {
   "cell_type": "code",
   "execution_count": 2,
   "metadata": {},
   "outputs": [],
   "source": [
    "def weighted_sample(values, probs):\n",
    "    cumulative_probs = [0.0] + list(itertools.accumulate(probs))\n",
    "    interval_idx = bisect.bisect(cumulative_probs, random.random()) - 1\n",
    "    return values[interval_idx]"
   ]
  },
  {
   "cell_type": "code",
   "execution_count": 7,
   "metadata": {},
   "outputs": [],
   "source": [
    "values = [3, 5, 7, 11]\n",
    "probs = [9/18, 6/18, 2/18, 1/18]"
   ]
  },
  {
   "cell_type": "code",
   "execution_count": 9,
   "metadata": {},
   "outputs": [
    {
     "name": "stdout",
     "output_type": "stream",
     "text": [
      "{5: 332339, 3: 501134, 7: 110865, 11: 55662}\n"
     ]
    }
   ],
   "source": [
    "d = {}\n",
    "\n",
    "for _ in range(1000000):\n",
    "    value = weighted_sample(values, probs)\n",
    "    d[value] = d.get(value, 0) + 1\n",
    "    \n",
    "print(d)"
   ]
  },
  {
   "cell_type": "code",
   "execution_count": null,
   "metadata": {},
   "outputs": [],
   "source": []
  }
 ],
 "metadata": {
  "kernelspec": {
   "display_name": "Python 3",
   "language": "python",
   "name": "python3"
  },
  "language_info": {
   "codemirror_mode": {
    "name": "ipython",
    "version": 3
   },
   "file_extension": ".py",
   "mimetype": "text/x-python",
   "name": "python",
   "nbconvert_exporter": "python",
   "pygments_lexer": "ipython3",
   "version": "3.7.3"
  }
 },
 "nbformat": 4,
 "nbformat_minor": 2
}
