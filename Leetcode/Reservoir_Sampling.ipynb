{
 "cells": [
  {
   "cell_type": "markdown",
   "metadata": {},
   "source": [
    "Reservoir sampling is a family of randomized algorithms for randomly choosing a sample of k items from a list S containing n items, where n is either a very large or unknown number. Typically, n is too large to fit the whole list into main memory."
   ]
  },
  {
   "cell_type": "code",
   "execution_count": 5,
   "metadata": {},
   "outputs": [
    {
     "data": {
      "text/plain": [
       "'\\n(*\\n  S has items to sample, R will contain the result\\n *)\\nReservoirSample(S[1..n], R[1..k])\\n  // fill the reservoir array\\n  for i = 1 to k\\n      R[i] := S[i]\\n\\n  // replace elements with gradually decreasing probability\\n  for i = k+1 to n\\n    j := random(1, i)   // important: inclusive range\\n    if j <= k\\n        R[j] := S[i]\\n'"
      ]
     },
     "execution_count": 5,
     "metadata": {},
     "output_type": "execute_result"
    }
   ],
   "source": [
    "'''\n",
    "(*\n",
    "  S has items to sample, R will contain the result\n",
    " *)\n",
    "ReservoirSample(S[1..n], R[1..k])\n",
    "  // fill the reservoir array\n",
    "  for i = 1 to k\n",
    "      R[i] := S[i]\n",
    "\n",
    "  // replace elements with gradually decreasing probability\n",
    "  for i = k+1 to n\n",
    "    j := random(1, i)   // important: inclusive range\n",
    "    if j <= k\n",
    "        R[j] := S[i]\n",
    "'''"
   ]
  },
  {
   "cell_type": "code",
   "execution_count": 19,
   "metadata": {},
   "outputs": [],
   "source": [
    "import random\n",
    "\n",
    "def sample(iterable, k):\n",
    "    \"\"\"\n",
    "    Returns @param n random items from @param iterable.\n",
    "    \"\"\"\n",
    "    reservoir = []\n",
    "    for i, item in enumerate(iterable):\n",
    "        if i < k:\n",
    "            reservoir.append(item)\n",
    "        else:\n",
    "            j = random.randint(0,i)\n",
    "            if j < k:\n",
    "                reservoir[j] = item\n",
    "    return reservoir"
   ]
  },
  {
   "cell_type": "code",
   "execution_count": 20,
   "metadata": {},
   "outputs": [
    {
     "data": {
      "text/plain": [
       "[444472, 992522, 259792, 644214, 21926, 574400, 553350, 961252, 539704, 59343]"
      ]
     },
     "execution_count": 20,
     "metadata": {},
     "output_type": "execute_result"
    }
   ],
   "source": [
    "sample(range(1000000), 10)"
   ]
  },
  {
   "cell_type": "code",
   "execution_count": null,
   "metadata": {},
   "outputs": [],
   "source": []
  }
 ],
 "metadata": {
  "kernelspec": {
   "display_name": "Python 3",
   "language": "python",
   "name": "python3"
  },
  "language_info": {
   "codemirror_mode": {
    "name": "ipython",
    "version": 3
   },
   "file_extension": ".py",
   "mimetype": "text/x-python",
   "name": "python",
   "nbconvert_exporter": "python",
   "pygments_lexer": "ipython3",
   "version": "3.7.3"
  }
 },
 "nbformat": 4,
 "nbformat_minor": 2
}
