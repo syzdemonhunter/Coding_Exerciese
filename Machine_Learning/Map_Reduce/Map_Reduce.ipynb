{
 "cells": [
  {
   "cell_type": "markdown",
   "metadata": {},
   "source": [
    "# Word Count"
   ]
  },
  {
   "cell_type": "code",
   "execution_count": 1,
   "metadata": {},
   "outputs": [],
   "source": [
    "from typing import List\n",
    "from collections import Counter\n",
    "\n",
    "def tokenize(document: str) -> List[str]:\n",
    "    \"\"\"Just split on whitespace\"\"\"\n",
    "    return document.split()\n",
    "\n",
    "from typing import Iterator, Tuple\n",
    "\n",
    "def wc_mapper(document: str) -> Iterator[Tuple[str, int]]:\n",
    "    \"\"\"For each word in the document, emit (word, 1)\"\"\"\n",
    "    for word in tokenize(document):\n",
    "        yield (word, 1)\n",
    "\n",
    "from typing import Iterable\n",
    "\n",
    "def wc_reducer(word: str,\n",
    "               counts: Iterable[int]) -> Iterator[Tuple[str, int]]:\n",
    "    \"\"\"Sum up the counts for a word\"\"\"\n",
    "    yield (word, sum(counts))\n",
    "\n",
    "from collections import defaultdict\n",
    "\n",
    "def word_count(documents: List[str]) -> List[Tuple[str, int]]:\n",
    "    \"\"\"Count the words in the input documents using MapReduce\"\"\"\n",
    "\n",
    "    collector = defaultdict(list)  # To store grouped values\n",
    "\n",
    "    for document in documents:\n",
    "        for word, count in wc_mapper(document):\n",
    "            collector[word].append(count)\n",
    "\n",
    "    return [output\n",
    "            for word, counts in collector.items()\n",
    "            for output in wc_reducer(word, counts)]\n",
    "\n",
    "wc = word_count([\"data science\", \"big data\", \"science fiction\"])\n",
    "assert len(wc) == 4\n",
    "assert set(wc) == {(\"data\", 2), (\"science\", 2), (\"big\", 1), (\"fiction\", 1)}"
   ]
  },
  {
   "cell_type": "markdown",
   "metadata": {},
   "source": [
    "# MapReduce More Generally"
   ]
  },
  {
   "cell_type": "code",
   "execution_count": 2,
   "metadata": {},
   "outputs": [
    {
     "data": {
      "text/plain": [
       "[('data', 2), ('science', 2), ('big', 1), ('fiction', 1)]"
      ]
     },
     "execution_count": 2,
     "metadata": {},
     "output_type": "execute_result"
    }
   ],
   "source": [
    "from typing import Callable, Iterable, Any, Tuple\n",
    "\n",
    "# A key-value pair is just a 2-tuple\n",
    "KV = Tuple[Any, Any]\n",
    "\n",
    "# A Mapper is a function that returns an Iterable of key-value pairs\n",
    "Mapper = Callable[..., Iterable[KV]]\n",
    "\n",
    "# A Reducer is a function that takes a key and an iterable of values\n",
    "# and returns a key-value pair\n",
    "Reducer = Callable[[Any, Iterable], KV]\n",
    "\n",
    "def map_reduce(inputs: Iterable,\n",
    "               mapper: Mapper,\n",
    "               reducer: Reducer) -> List[KV]:\n",
    "    \"\"\"Run MapReduce on the inputs using mapper and reducer\"\"\"\n",
    "    collector = defaultdict(list)\n",
    "\n",
    "    for each_input in inputs:\n",
    "        for key, value in mapper(each_input):\n",
    "            collector[key].append(value)\n",
    "\n",
    "    return [output\n",
    "            for key, values in collector.items()\n",
    "            for output in reducer(key, values)]\n",
    "\n",
    "\n",
    "documents = [\"data science\", \"big data\", \"science fiction\"]\n",
    "map_reduce(documents, wc_mapper, wc_reducer)"
   ]
  },
  {
   "cell_type": "markdown",
   "metadata": {},
   "source": [
    "# More MapReduce Aggreation Methods"
   ]
  },
  {
   "cell_type": "code",
   "execution_count": 3,
   "metadata": {},
   "outputs": [],
   "source": [
    "def values_reducer(values_fn: Callable) -> Reducer:\n",
    "    \"\"\"Return a reducer that just applies values_fn to its values\"\"\"\n",
    "    def reduce(key, values: Iterable) -> KV:\n",
    "        return (key, values_fn(values))\n",
    "\n",
    "    return reduce\n",
    "\n",
    "sum_reducer = values_reducer(sum)\n",
    "max_reducer = values_reducer(max)\n",
    "min_reducer = values_reducer(min)\n",
    "count_distinct_reducer = values_reducer(lambda values: len(set(values)))\n",
    "\n",
    "assert sum_reducer(\"key\", [1, 2, 3, 3]) == (\"key\", 9)\n",
    "assert min_reducer(\"key\", [1, 2, 3, 3]) == (\"key\", 1)\n",
    "assert max_reducer(\"key\", [1, 2, 3, 3]) == (\"key\", 3)\n",
    "assert count_distinct_reducer(\"key\", [1, 2, 3, 3]) == (\"key\", 3)"
   ]
  },
  {
   "cell_type": "code",
   "execution_count": null,
   "metadata": {},
   "outputs": [],
   "source": []
  }
 ],
 "metadata": {
  "kernelspec": {
   "display_name": "Python 3",
   "language": "python",
   "name": "python3"
  },
  "language_info": {
   "codemirror_mode": {
    "name": "ipython",
    "version": 3
   },
   "file_extension": ".py",
   "mimetype": "text/x-python",
   "name": "python",
   "nbconvert_exporter": "python",
   "pygments_lexer": "ipython3",
   "version": "3.7.3"
  }
 },
 "nbformat": 4,
 "nbformat_minor": 2
}
