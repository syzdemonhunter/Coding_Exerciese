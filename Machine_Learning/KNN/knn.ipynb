{
 "cells": [
  {
   "cell_type": "code",
   "execution_count": 1,
   "metadata": {},
   "outputs": [],
   "source": [
    "# https://deeplearningcourses.com/c/data-science-supervised-machine-learning-in-python\n",
    "# https://www.udemy.com/data-science-supervised-machine-learning-in-python\n",
    "# This is an example of a K-Nearest Neighbors classifier on MNIST data.\n",
    "# We try k=1...5 to show how we might choose the best k.\n",
    "# sudo pip install sortedcontainers (if you don't have it)\n",
    "#from __future__ import print_function, division\n",
    "#from future.utils import iteritems\n",
    "#from builtins import range, input\n",
    "# Note: you may need to update your version of future\n",
    "# sudo pip install -U future\n",
    "\n",
    "\n",
    "import numpy as np\n",
    "import matplotlib.pyplot as plt\n",
    "from sortedcontainers import SortedList\n",
    "# Note: You can't use SortedDict because the key is distance\n",
    "# if 2 close points are the same distance away, one will be overwritten\n",
    "from util import get_data\n",
    "from datetime import datetime\n",
    "%matplotlib inline"
   ]
  },
  {
   "cell_type": "code",
   "execution_count": 2,
   "metadata": {},
   "outputs": [],
   "source": [
    "class KNN(object):\n",
    "    def __init__(self, k):\n",
    "        self.k = k\n",
    "\n",
    "    def fit(self, X, y):\n",
    "        self.X = X\n",
    "        self.y = y\n",
    "\n",
    "    def predict(self, X):\n",
    "        y = np.zeros(len(X))\n",
    "        for i, x in enumerate(X): # test points\n",
    "            sl = SortedList() # stores (distance, class) tuples\n",
    "            for j, xt in enumerate(self.X): # training points\n",
    "                diff = x - xt\n",
    "                d = diff.dot(diff)\n",
    "                if len(sl) < self.k:\n",
    "                    # don't need to check, just add\n",
    "                    sl.add((d, self.y[j]))\n",
    "                else:\n",
    "                    if d < sl[-1][0]:\n",
    "                        del sl[-1]\n",
    "                        sl.add((d, self.y[j]))\n",
    "            # print \"input:\", x\n",
    "            # print \"sl:\", sl\n",
    "\n",
    "            # vote\n",
    "            votes = {}\n",
    "            for _, v in sl:\n",
    "                # print \"v:\", v\n",
    "                votes[v] = votes.get(v,0) + 1\n",
    "            # print \"votes:\", votes, \"true:\", Ytest[i]\n",
    "            max_votes = 0\n",
    "            max_votes_class = -1\n",
    "            for v, count in votes.items():\n",
    "                if count > max_votes:\n",
    "                    max_votes = count\n",
    "                    max_votes_class = v\n",
    "            y[i] = max_votes_class\n",
    "        return y\n",
    "\n",
    "    def score(self, X, Y):\n",
    "        P = self.predict(X)\n",
    "        return np.mean(P == Y)"
   ]
  },
  {
   "cell_type": "code",
   "execution_count": 3,
   "metadata": {},
   "outputs": [
    {
     "name": "stdout",
     "output_type": "stream",
     "text": [
      "Reading in and transforming data...\n",
      "\n",
      "k = 1\n",
      "Training time: 0:00:00.000011\n",
      "Train accuracy: 1.0\n",
      "Time to compute train accuracy: 0:00:10.326354 Train size: 1000\n",
      "Test accuracy: 0.901\n",
      "Time to compute test accuracy: 0:00:14.614404 Test size: 1000\n",
      "\n",
      "k = 2\n",
      "Training time: 0:00:00.000005\n",
      "Train accuracy: 1.0\n",
      "Time to compute train accuracy: 0:00:10.269960 Train size: 1000\n",
      "Test accuracy: 0.901\n",
      "Time to compute test accuracy: 0:00:13.872582 Test size: 1000\n",
      "\n",
      "k = 3\n",
      "Training time: 0:00:00.000009\n",
      "Train accuracy: 0.951\n",
      "Time to compute train accuracy: 0:00:10.744749 Train size: 1000\n",
      "Test accuracy: 0.887\n",
      "Time to compute test accuracy: 0:00:15.097769 Test size: 1000\n",
      "\n",
      "k = 4\n",
      "Training time: 0:00:00.000003\n",
      "Train accuracy: 0.953\n",
      "Time to compute train accuracy: 0:00:11.036338 Train size: 1000\n",
      "Test accuracy: 0.902\n",
      "Time to compute test accuracy: 0:00:14.352556 Test size: 1000\n",
      "\n",
      "k = 5\n",
      "Training time: 0:00:00.000003\n",
      "Train accuracy: 0.926\n",
      "Time to compute train accuracy: 0:00:10.240321 Train size: 1000\n",
      "Test accuracy: 0.888\n",
      "Time to compute test accuracy: 0:00:14.287798 Test size: 1000\n"
     ]
    },
    {
     "data": {
      "image/png": "[encoded data removed]",
      "text/plain": [
       "<Figure size 432x288 with 1 Axes>"
      ]
     },
     "metadata": {
      "needs_background": "light"
     },
     "output_type": "display_data"
    }
   ],
   "source": [
    "if __name__ == '__main__':\n",
    "    X, Y = get_data(2000)\n",
    "    Ntrain = 1000\n",
    "    Xtrain, Ytrain = X[:Ntrain], Y[:Ntrain]\n",
    "    Xtest, Ytest = X[Ntrain:], Y[Ntrain:]\n",
    "    train_scores = []\n",
    "    test_scores = []\n",
    "    ks = (1,2,3,4,5)\n",
    "    for k in ks:\n",
    "        print(\"\\nk =\", k)\n",
    "        knn = KNN(k)\n",
    "        t0 = datetime.now()\n",
    "        knn.fit(Xtrain, Ytrain)\n",
    "        print(\"Training time:\", (datetime.now() - t0))\n",
    "\n",
    "        t0 = datetime.now()\n",
    "        train_score = knn.score(Xtrain, Ytrain)\n",
    "        train_scores.append(train_score)\n",
    "        print(\"Train accuracy:\", train_score)\n",
    "        print(\"Time to compute train accuracy:\", (datetime.now() - t0), \"Train size:\", len(Ytrain))\n",
    "\n",
    "        t0 = datetime.now()\n",
    "        test_score = knn.score(Xtest, Ytest)\n",
    "        print(\"Test accuracy:\", test_score)\n",
    "        test_scores.append(test_score)\n",
    "        print(\"Time to compute test accuracy:\", (datetime.now() - t0), \"Test size:\", len(Ytest))\n",
    "\n",
    "    plt.plot(ks, train_scores, label='train scores')\n",
    "    plt.plot(ks, test_scores, label='test scores')\n",
    "    plt.legend()\n",
    "    plt.show()"
   ]
  },
  {
   "cell_type": "code",
   "execution_count": null,
   "metadata": {},
   "outputs": [],
   "source": []
  }
 ],
 "metadata": {
  "kernelspec": {
   "display_name": "Python 3",
   "language": "python",
   "name": "python3"
  },
  "language_info": {
   "codemirror_mode": {
    "name": "ipython",
    "version": 3
   },
   "file_extension": ".py",
   "mimetype": "text/x-python",
   "name": "python",
   "nbconvert_exporter": "python",
   "pygments_lexer": "ipython3",
   "version": "3.7.3"
  }
 },
 "nbformat": 4,
 "nbformat_minor": 2
}
